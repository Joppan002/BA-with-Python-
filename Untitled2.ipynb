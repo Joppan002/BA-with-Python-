{
  "nbformat": 4,
  "nbformat_minor": 0,
  "metadata": {
    "colab": {
      "name": "Untitled2.ipynb",
      "provenance": [],
      "authorship_tag": "ABX9TyOd3AVFemLPau97jwJt0n4x",
      "include_colab_link": true
    },
    "kernelspec": {
      "name": "python3",
      "display_name": "Python 3"
    },
    "language_info": {
      "name": "python"
    }
  },
  "cells": [
    {
      "cell_type": "markdown",
      "metadata": {
        "id": "view-in-github",
        "colab_type": "text"
      },
      "source": [
        "<a href=\"https://colab.research.google.com/github/Joppan002/BA-with-Python-/blob/main/Untitled2.ipynb\" target=\"_parent\"><img src=\"https://colab.research.google.com/assets/colab-badge.svg\" alt=\"Open In Colab\"/></a>"
      ]
    },
    {
      "cell_type": "code",
      "execution_count": 1,
      "metadata": {
        "colab": {
          "base_uri": "https://localhost:8080/"
        },
        "id": "pRm4L0qMgmrK",
        "outputId": "55af4f73-0545-42b1-e172-bb7066d4fbab"
      },
      "outputs": [
        {
          "output_type": "stream",
          "name": "stdout",
          "text": [
            "enter basic salary600000\n",
            "enter HRA400\n",
            "enter special allowence44000\n",
            "enter LTA800\n",
            "tax payable amt= 24500.0\n"
          ]
        }
      ],
      "source": [
        "import matplotlib.pyplot as plt\n",
        "import numpy as np\n",
        "x=int(input(\"enter basic salary\"))\n",
        "y=int(input(\"enter HRA\"))\n",
        "z=int(input(\"enter special allowence\"))\n",
        "w=int(input(\"enter LTA\"))\n",
        "if x<250000:\n",
        "  print(\"no tax\")\n",
        "elif x>250000 and x<500000:\n",
        "  print(\"tax payable amt=\",(x-250000)*5/100)\n",
        "elif x>500001 and x<750000:\n",
        "  print(\"tax payable amt=\",(x-250000)*7/100)\n",
        "elif x<750001 and x>1000000:\n",
        "  print(\"tax payable amt=\",(x-250000)*10/100)\n",
        "else:\n",
        "  print(\"tax payable amt=\",(x-250000)*30/100)"
      ]
    }
  ]
}