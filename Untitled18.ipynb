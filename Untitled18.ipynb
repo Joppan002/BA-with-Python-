{
  "nbformat": 4,
  "nbformat_minor": 0,
  "metadata": {
    "colab": {
      "provenance": [],
      "authorship_tag": "ABX9TyPn/0YTkSk6QBq54GjYmD78",
      "include_colab_link": true
    },
    "kernelspec": {
      "name": "python3",
      "display_name": "Python 3"
    },
    "language_info": {
      "name": "python"
    }
  },
  "cells": [
    {
      "cell_type": "markdown",
      "metadata": {
        "id": "view-in-github",
        "colab_type": "text"
      },
      "source": [
        "<a href=\"https://colab.research.google.com/github/Joppan002/BA-with-Python-/blob/main/Untitled18.ipynb\" target=\"_parent\"><img src=\"https://colab.research.google.com/assets/colab-badge.svg\" alt=\"Open In Colab\"/></a>"
      ]
    },
    {
      "cell_type": "code",
      "execution_count": 1,
      "metadata": {
        "id": "Q1PsZmKcZGTN"
      },
      "outputs": [],
      "source": [
        "x=[2,4,6,8,1,0,12,14,16,17,13]"
      ]
    },
    {
      "cell_type": "code",
      "source": [
        "def addno():\n",
        "  x=[2,4,6,8,1,0,12,14,16,17,13] \n",
        "  print (sum(x))\n",
        "\n"
      ],
      "metadata": {
        "id": "DhsbdOaJZp9I"
      },
      "execution_count": 2,
      "outputs": []
    },
    {
      "cell_type": "code",
      "source": [
        "addno()"
      ],
      "metadata": {
        "colab": {
          "base_uri": "https://localhost:8080/"
        },
        "id": "Qyu75mWJbfAF",
        "outputId": "315b425a-9fa2-46c3-f62c-07493cd03450"
      },
      "execution_count": 3,
      "outputs": [
        {
          "output_type": "stream",
          "name": "stdout",
          "text": [
            "93\n"
          ]
        }
      ]
    },
    {
      "cell_type": "code",
      "source": [
        "def odd():\n",
        "  x=[2,4,6,8,1,0,12,14,16,17,13] \n",
        "  e=[]\n",
        "  for x in x:\n",
        "    if x%2!=0:\n",
        "      e.append(x)\n",
        "  print(e)     "
      ],
      "metadata": {
        "id": "HgnuTH_Tbhab"
      },
      "execution_count": 7,
      "outputs": []
    },
    {
      "cell_type": "code",
      "source": [
        "odd()"
      ],
      "metadata": {
        "colab": {
          "base_uri": "https://localhost:8080/"
        },
        "id": "BRNsuULuh2ne",
        "outputId": "14f8f93f-e679-443d-a0c2-62efe6b95ecb"
      },
      "execution_count": 8,
      "outputs": [
        {
          "output_type": "stream",
          "name": "stdout",
          "text": [
            "[1, 17, 13]\n"
          ]
        }
      ]
    },
    {
      "cell_type": "code",
      "source": [
        "def even():\n",
        "  x=[2,4,6,8,1,0,12,14,16,17,13] \n",
        "  e=[]\n",
        "  for x in x:\n",
        "    if x%2 == 0:\n",
        "      e.append(x)\n",
        "  print(e) "
      ],
      "metadata": {
        "id": "4Zyv5jhYh7OP"
      },
      "execution_count": 13,
      "outputs": []
    },
    {
      "cell_type": "code",
      "source": [
        "even()"
      ],
      "metadata": {
        "colab": {
          "base_uri": "https://localhost:8080/"
        },
        "id": "bmgoD8o8iI72",
        "outputId": "e5b0c3f1-d9ea-4af4-b1e7-d65fdadd34b4"
      },
      "execution_count": 14,
      "outputs": [
        {
          "output_type": "stream",
          "name": "stdout",
          "text": [
            "[2, 4, 6, 8, 0, 12, 14, 16]\n"
          ]
        }
      ]
    },
    {
      "cell_type": "code",
      "source": [
        "                    \n",
        "string = input(\"Enter any string: \")\n",
        "\n",
        "newstr = string\n",
        "\n",
        "print(\"\\nRemoving vowels from the given string\");\n",
        "\n",
        "vowels = ('a', 'e', 'i', 'o', 'u');\n",
        "\n",
        "for x in string.lower():\n",
        "  if x in vowels:\n",
        "    newstr = newstr.replace(x,\"\");\n",
        "\n",
        "print(\"New string after successfully removed all the vowels:\");\n",
        "\n",
        "print(newstr);"
      ],
      "metadata": {
        "colab": {
          "base_uri": "https://localhost:8080/"
        },
        "id": "PE0A9kOQjRgd",
        "outputId": "39fff482-0b9d-46ac-fec8-19c9f1e2fc61"
      },
      "execution_count": 23,
      "outputs": [
        {
          "output_type": "stream",
          "name": "stdout",
          "text": [
            "Enter any string: Python is a high-level, general-purpose programming language. Its design philosophy emphasizes code readability with the use of significant indentation. Python is dynamically typed and garbage-collected. It supports multiple programming paradigms, including structured, object-oriented and functional programming.\n",
            "\n",
            "Removing vowels from the given string\n",
            "New string after successfully removed all the vowels:\n",
            "Pythn s  hgh-lvl, gnrl-prps prgrmmng lngg. Its dsgn phlsphy mphszs cd rdblty wth th s f sgnfcnt ndnttn. Pythn s dynmclly typd nd grbg-cllctd. It spprts mltpl prgrmmng prdgms, ncldng strctrd, bjct-rntd nd fnctnl prgrmmng.\n"
          ]
        }
      ]
    },
    {
      "cell_type": "code",
      "source": [
        "bj= input(\"Enter the Text\")\n"
      ],
      "metadata": {
        "id": "KkU-apwOjTT8"
      },
      "execution_count": null,
      "outputs": []
    }
  ]
}