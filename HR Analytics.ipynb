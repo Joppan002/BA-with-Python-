{
  "nbformat": 4,
  "nbformat_minor": 0,
  "metadata": {
    "colab": {
      "name": "Untitled6.ipynb",
      "provenance": [],
      "authorship_tag": "ABX9TyP6WUWZo0QBcetAoUGiUFhn",
      "include_colab_link": true
    },
    "kernelspec": {
      "name": "python3",
      "display_name": "Python 3"
    },
    "language_info": {
      "name": "python"
    }
  },
  "cells": [
    {
      "cell_type": "markdown",
      "metadata": {
        "id": "view-in-github",
        "colab_type": "text"
      },
      "source": [
        "<a href=\"https://colab.research.google.com/github/Joppan002/BA-with-Python-/blob/main/HR%20Analytics.ipynb\" target=\"_parent\"><img src=\"https://colab.research.google.com/assets/colab-badge.svg\" alt=\"Open In Colab\"/></a>"
      ]
    },
    {
      "cell_type": "code",
      "execution_count": 4,
      "metadata": {
        "id": "nBHe4-R-RfgP"
      },
      "outputs": [],
      "source": [
        "import pandas as pd\n",
        "df=pd.read_csv(\"/content/HRDataset_v14.csv\")"
      ]
    },
    {
      "cell_type": "code",
      "source": [
        "\n",
        "df.Position.count()"
      ],
      "metadata": {
        "colab": {
          "base_uri": "https://localhost:8080/"
        },
        "id": "vdj4LA7FTHbH",
        "outputId": "48d2e648-55b0-4a54-9f1b-ff0925265713"
      },
      "execution_count": 5,
      "outputs": [
        {
          "output_type": "execute_result",
          "data": {
            "text/plain": [
              "311"
            ]
          },
          "metadata": {},
          "execution_count": 5
        }
      ]
    },
    {
      "cell_type": "code",
      "source": [
        "df.loc[df['Position']=='Production Technician I'].EmpID.count()"
      ],
      "metadata": {
        "colab": {
          "base_uri": "https://localhost:8080/"
        },
        "id": "5_KAPDWlWXaD",
        "outputId": "343d14fe-57b1-48f6-970b-b54c250fff10"
      },
      "execution_count": 6,
      "outputs": [
        {
          "output_type": "execute_result",
          "data": {
            "text/plain": [
              "137"
            ]
          },
          "metadata": {},
          "execution_count": 6
        }
      ]
    },
    {
      "cell_type": "code",
      "source": [
        "df.loc[df['Gender']=='Male'].EmpID.count()"
      ],
      "metadata": {
        "colab": {
          "base_uri": "https://localhost:8080/"
        },
        "id": "jdHtFHEAWebR",
        "outputId": "e1ad9c20-cac8-4f13-8763-e12ed2c76ebf"
      },
      "execution_count": 7,
      "outputs": [
        {
          "output_type": "execute_result",
          "data": {
            "text/plain": [
              "193"
            ]
          },
          "metadata": {},
          "execution_count": 7
        }
      ]
    },
    {
      "cell_type": "code",
      "source": [
        "df.loc[df['ManagerName']=='Michael Albert'].Employee_Name"
      ],
      "metadata": {
        "colab": {
          "base_uri": "https://localhost:8080/"
        },
        "id": "dixED2drWhwR",
        "outputId": "064b3737-c82d-4a95-cd84-255ae58f2ada"
      },
      "execution_count": 8,
      "outputs": [
        {
          "output_type": "execute_result",
          "data": {
            "text/plain": [
              "0         Adinolfi, Wilson  K\n",
              "14              Barton, Nader\n",
              "23             Blount, Dianna\n",
              "41           Chace, Beatrice \n",
              "58          Crimmings,   Jean\n",
              "83             Erilus, Angela\n",
              "84          Estremera, Miguel\n",
              "102           Gentry, Mildred\n",
              "122       Handschiegl, Joanne\n",
              "129    Homberger, Adrienne  J\n",
              "143           Johnson, George\n",
              "148           Keatts, Kramer \n",
              "168         Linares, Marilyn \n",
              "171              Lundy, Susan\n",
              "186        Medeiros, Jennifer\n",
              "195         Moumanil, Maliki \n",
              "209             Owad, Clinton\n",
              "229            Rarrick, Quinn\n",
              "247             Sadki, Nore  \n",
              "256          Sloan, Constance\n",
              "272         Sullivan, Timothy\n",
              "294      Von Massenbach, Anna\n",
              "Name: Employee_Name, dtype: object"
            ]
          },
          "metadata": {},
          "execution_count": 8
        }
      ]
    },
    {
      "cell_type": "code",
      "source": [
        "\n",
        "df.loc[df['EmploymentStatus']=='Active'].Employee_Name"
      ],
      "metadata": {
        "colab": {
          "base_uri": "https://localhost:8080/"
        },
        "id": "9-a3Q1vOZL7h",
        "outputId": "bb5a3dc4-5d75-4f7e-ec27-8d0fcb556aa6"
      },
      "execution_count": 9,
      "outputs": [
        {
          "output_type": "execute_result",
          "data": {
            "text/plain": [
              "0      Adinolfi, Wilson  K\n",
              "3             Alagbe,Trina\n",
              "5        Anderson, Linda  \n",
              "6          Andreola, Colby\n",
              "7              Athwal, Sam\n",
              "              ...         \n",
              "305          Wolk, Hang  T\n",
              "306         Woodson, Jason\n",
              "308       Zamora, Jennifer\n",
              "309            Zhou, Julia\n",
              "310          Zima, Colleen\n",
              "Name: Employee_Name, Length: 207, dtype: object"
            ]
          },
          "metadata": {},
          "execution_count": 9
        }
      ]
    },
    {
      "cell_type": "code",
      "source": [
        "\n",
        "df.loc[(df['EmploymentStatus']=='Active') & (df['MaritalDesc']=='Married')].Employee_Name"
      ],
      "metadata": {
        "colab": {
          "base_uri": "https://localhost:8080/"
        },
        "id": "39N2wN0SZO-R",
        "outputId": "a44b1c0c-ed55-4342-bc16-968236ac8cb5"
      },
      "execution_count": 10,
      "outputs": [
        {
          "output_type": "execute_result",
          "data": {
            "text/plain": [
              "3           Alagbe,Trina\n",
              "16      Beak, Kimberly  \n",
              "22         Billis, Helen\n",
              "26     Boutwell, Bonalyn\n",
              "29            Brown, Mia\n",
              "             ...        \n",
              "271     Sullivan, Kissy \n",
              "272    Sullivan, Timothy\n",
              "275         Tannen, Biff\n",
              "287        Turpin, Jumil\n",
              "288      Valentin,Jackie\n",
              "Name: Employee_Name, Length: 77, dtype: object"
            ]
          },
          "metadata": {},
          "execution_count": 10
        }
      ]
    },
    {
      "cell_type": "code",
      "source": [
        "df.loc[(df['EmploymentStatus']=='Active') & (df['Salary']<60000)].Employee_Name"
      ],
      "metadata": {
        "colab": {
          "base_uri": "https://localhost:8080/"
        },
        "id": "xUFeT3ScZRzQ",
        "outputId": "96f730a7-cfa8-42ff-c9c0-115d253f77d1"
      },
      "execution_count": 11,
      "outputs": [
        {
          "output_type": "execute_result",
          "data": {
            "text/plain": [
              "5         Anderson, Linda  \n",
              "7               Athwal, Sam\n",
              "8          Bachiochi, Linda\n",
              "9        Bacong, Alejandro \n",
              "13     Barone, Francesco  A\n",
              "               ...         \n",
              "278        Terry, Sharlene \n",
              "281       Tippett, Jeanette\n",
              "288         Valentin,Jackie\n",
              "291        Villanueva, Noah\n",
              "310           Zima, Colleen\n",
              "Name: Employee_Name, Length: 72, dtype: object"
            ]
          },
          "metadata": {},
          "execution_count": 11
        }
      ]
    },
    {
      "cell_type": "code",
      "source": [
        ""
      ],
      "metadata": {
        "id": "h5YuSkpYZUNo"
      },
      "execution_count": null,
      "outputs": []
    }
  ]
}