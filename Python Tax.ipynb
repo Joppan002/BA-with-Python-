{
  "nbformat": 4,
  "nbformat_minor": 0,
  "metadata": {
    "colab": {
      "name": "Untitled0.ipynb",
      "provenance": []
    },
    "kernelspec": {
      "name": "python3",
      "display_name": "Python 3"
    },
    "language_info": {
      "name": "python"
    }
  },
  "cells": [
    {
      "cell_type": "code",
      "source": [
        "x=int(input('enter first no'))\n",
        "y=int(input('enter second no'))"
      ],
      "metadata": {
        "colab": {
          "base_uri": "https://localhost:8080/"
        },
        "id": "11SLxbi4SKGS",
        "outputId": "01cded73-6052-4497-de7a-efb9e294b1a0"
      },
      "execution_count": 2,
      "outputs": [
        {
          "name": "stdout",
          "output_type": "stream",
          "text": [
            "enter first no4\n",
            "enter second no8\n"
          ]
        }
      ]
    },
    {
      "cell_type": "code",
      "source": [
        "P=int(input('Enter principal amount:'))\n",
        "N=int(input('Enter the no of years:'))\n",
        "R=int(input('enter the rate:'))\n",
        "I=P*N*R/100\n",
        "T=P+I\n",
        "print('Interst amount',I)\n",
        "print('total amount',T)"
      ],
      "metadata": {
        "colab": {
          "base_uri": "https://localhost:8080/"
        },
        "id": "rhyu2B33VSZj",
        "outputId": "e6337c62-059d-426a-c3cd-c45dfc2d95f3"
      },
      "execution_count": 6,
      "outputs": [
        {
          "output_type": "stream",
          "name": "stdout",
          "text": [
            "Enter principal amount:10000\n",
            "Enter the no of years:5\n",
            "enter the rate:8\n",
            "Interst amount 4000.0\n",
            "total amount 14000.0\n"
          ]
        }
      ]
    },
    {
      "cell_type": "code",
      "source": [
        "x=int(input('enter your marks'))\n",
        "if x>50 :\n",
        "  print('pass')\n",
        "if x<50 :\n",
        "  print('fail') \n"
      ],
      "metadata": {
        "colab": {
          "base_uri": "https://localhost:8080/"
        },
        "id": "OX2pEMYaVoos",
        "outputId": "0709bd08-f3c8-4fc2-81ba-3970588d22bb"
      },
      "execution_count": 7,
      "outputs": [
        {
          "output_type": "stream",
          "name": "stdout",
          "text": [
            "enter your marks52\n",
            "pass\n"
          ]
        }
      ]
    },
    {
      "cell_type": "code",
      "source": [
        "x=int(input('Enter your SALARY'))\n",
        "if x>=250000 :\n",
        "  print('You are TAXABLE')\n",
        "if x<250000 :\n",
        "  print('Your are not TAXABLE')"
      ],
      "metadata": {
        "colab": {
          "base_uri": "https://localhost:8080/"
        },
        "id": "XMckZo4_YbHA",
        "outputId": "611a0098-8ba7-4907-ed80-24b4db30171e"
      },
      "execution_count": 8,
      "outputs": [
        {
          "output_type": "stream",
          "name": "stdout",
          "text": [
            "Enter your SALARY200000\n",
            "Your are not TAXABLE\n"
          ]
        }
      ]
    },
    {
      "cell_type": "code",
      "source": [
        "x=int(input('Enter your SALARY'))\n",
        "if x>=250000 :\n",
        "  print('You are TAXABLE')\n",
        "  T=print('Tax Amount',x*10/100)\n",
        "if x<250000 :\n",
        "  print('Your are not TAXABLE')"
      ],
      "metadata": {
        "colab": {
          "base_uri": "https://localhost:8080/"
        },
        "id": "6MlXkiBfbSxP",
        "outputId": "0f3e9ce9-1bce-462d-a47d-9a4d2b2de9df"
      },
      "execution_count": 9,
      "outputs": [
        {
          "output_type": "stream",
          "name": "stdout",
          "text": [
            "Enter your SALARY1000000\n",
            "You are TAXABLE\n",
            "Tax Amount 100000.0\n"
          ]
        }
      ]
    },
    {
      "cell_type": "code",
      "source": [
        "x=int(input(\"enter the salary\"))\n",
        "z=250000\n",
        "if x>=250000:\n",
        "  print(\"you are taxable\")\n",
        "  t=print('tax amount',(x-z)*10/100)\n",
        "if x<250000:\n",
        "  print(\"you are not taxable\")"
      ],
      "metadata": {
        "colab": {
          "base_uri": "https://localhost:8080/"
        },
        "id": "PzFGBn2Tcj8N",
        "outputId": "f559d86c-a1f5-41fd-c559-568aae46cf65"
      },
      "execution_count": 13,
      "outputs": [
        {
          "output_type": "stream",
          "name": "stdout",
          "text": [
            "enter the salary300000\n",
            "you are taxable\n",
            "tax amount 5000.0\n"
          ]
        }
      ]
    },
    {
      "cell_type": "code",
      "source": [
        "x=int(input(\"enter the salary\"))\n",
        "z=250000\n",
        "if x>=250000 and x<500000:\n",
        "  print(\"you are taxable\")\n",
        "  t=print('tax amount',(x-z)*10/100)\n",
        "if x>500000:\n",
        "  print('your are taxable')\n",
        "  t=print('tax amount',(x-z)*20/100) \n",
        "if x<250000:\n",
        "  print(\"you are not taxable\")"
      ],
      "metadata": {
        "colab": {
          "base_uri": "https://localhost:8080/"
        },
        "id": "g29xP6qCfoHA",
        "outputId": "00a65730-dc10-46cf-9e64-eea0c88c0df1"
      },
      "execution_count": 15,
      "outputs": [
        {
          "output_type": "stream",
          "name": "stdout",
          "text": [
            "enter the salary300000\n",
            "you are taxable\n",
            "tax amount 5000.0\n"
          ]
        }
      ]
    },
    {
      "cell_type": "code",
      "source": [
        ""
      ],
      "metadata": {
        "id": "zLtguoQgmbQA"
      },
      "execution_count": null,
      "outputs": []
    }
  ]
}